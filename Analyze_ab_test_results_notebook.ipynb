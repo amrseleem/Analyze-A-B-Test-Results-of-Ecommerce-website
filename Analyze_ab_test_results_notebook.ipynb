{
 "cells": [
  {
  
    "## Analyze A/B Test Results\n",
    "\n",
    "You may either submit your notebook through the workspace here, or you may work from your local machine and submit through the next page.  Either way assure that your code passes the project [RUBRIC](https://review.udacity.com/#!/projects/37e27304-ad47-4eb0-a1ab-8c12f60e43d0/rubric).  **Please save regularly.**\n",
    "\n",
    "This project will assure you have mastered the subjects covered in the statistics lessons.  The hope is to have this project be as comprehensive of these topics as possible.  Good luck!\n",
    "\n",
    "## Table of Contents\n",
    "- [Introduction](#intro)\n",
    "- [Part I - Probability](#probability)\n",
    "- [Part II - A/B Test](#ab_test)\n",
    "- [Part III - Regression](#regression)\n",
    "\n",
    "\n",
    "<a id='intro'></a>\n",
    "### Introduction\n",
    "\n",
    "A/B tests are very commonly performed by data analysts and data scientists.  It is important that you get some practice working with the difficulties of these \n",
    "\n",
    "For this project, you will be working to understand the results of an A/B test run by an e-commerce website.  Your goal is to work through this notebook to help the company understand if they should implement the new page, keep the old page, or perhaps run the experiment longer to make their decision.\n",
    "\n",
    "**As you work through this notebook, follow along in the classroom and answer the corresponding quiz questions associated with each question.** The labels for each classroom concept are provided for each question.  This will assure you are on the right track as you work through the project, and you can feel more confident in your final submission meeting the criteria.  As a final check, assure you meet all the criteria on the [RUBRIC](https://review.udacity.com/#!/projects/37e27304-ad47-4eb0-a1ab-8c12f60e43d0/rubric).\n",
    "\n",
    "<a id='probability'></a>\n",
    "#### Part I - Probability\n",
    "\n",
    "To get started, let's import our libraries."
   ]
  },
  {
   "cell_type": "code",
   "execution_count": 1,
   "metadata": {},
   "outputs": [],
   "source": [
    "import pandas as pd\n",
    "import numpy as np\n",
    "import random\n",
    "import matplotlib.pyplot as plt\n",
    "%matplotlib inline\n",
    "#We are setting the seed to assure you get the same answers on quizzes as we set up\n",
    "random.seed(42)"
   ]
  },
  {
   "cell_type": "markdown",
   "metadata": {},
   "source": [
    "`1.` Now, read in the `ab_data.csv` data. Store it in `df`.  **Use your dataframe to answer the questions in Quiz 1 of the classroom.**\n",
    "\n",
    "a. Read in the dataset and take a look at the top few rows here:"
   ]
  },
  {
   "cell_type": "code",
   "execution_count": 2,
   "metadata": {},
   "outputs": [
    {
     "data": {
      "text/html": [
       "<div>\n",
       "<style scoped>\n",
       "    .dataframe tbody tr th:only-of-type {\n",
       "        vertical-align: middle;\n",
       "    }\n",
       "\n",
       "    .dataframe tbody tr th {\n",
       "        vertical-align: top;\n",
       "    }\n",
       "\n",
       "    .dataframe thead th {\n",
       "        text-align: right;\n",
       "    }\n",
       "</style>\n",
       "<table border=\"1\" class=\"dataframe\">\n",
       "  <thead>\n",
       "    <tr style=\"text-align: right;\">\n",
       "      <th></th>\n",
       "      <th>user_id</th>\n",
       "      <th>timestamp</th>\n",
       "      <th>group</th>\n",
       "      <th>landing_page</th>\n",
       "      <th>converted</th>\n",
       "    </tr>\n",
       "  </thead>\n",
       "  <tbody>\n",
       "    <tr>\n",
       "      <th>0</th>\n",
       "      <td>851104</td>\n",
       "      <td>2017-01-21 22:11:48.556739</td>\n",
       "      <td>control</td>\n",
       "      <td>old_page</td>\n",
       "      <td>0</td>\n",
       "    </tr>\n",
       "    <tr>\n",
       "      <th>1</th>\n",
       "      <td>804228</td>\n",
       "      <td>2017-01-12 08:01:45.159739</td>\n",
       "      <td>control</td>\n",
       "      <td>old_page</td>\n",
       "      <td>0</td>\n",
       "    </tr>\n",
       "    <tr>\n",
       "      <th>2</th>\n",
       "      <td>661590</td>\n",
       "      <td>2017-01-11 16:55:06.154213</td>\n",
       "      <td>treatment</td>\n",
       "      <td>new_page</td>\n",
       "      <td>0</td>\n",
       "    </tr>\n",
       "    <tr>\n",
       "      <th>3</th>\n",
       "      <td>853541</td>\n",
       "      <td>2017-01-08 18:28:03.143765</td>\n",
       "      <td>treatment</td>\n",
       "      <td>new_page</td>\n",
       "      <td>0</td>\n",
       "    </tr>\n",
       "    <tr>\n",
       "      <th>4</th>\n",
       "      <td>864975</td>\n",
       "      <td>2017-01-21 01:52:26.210827</td>\n",
       "      <td>control</td>\n",
       "      <td>old_page</td>\n",
       "      <td>1</td>\n",
       "    </tr>\n",
       "    <tr>\n",
       "      <th>5</th>\n",
       "      <td>936923</td>\n",
       "      <td>2017-01-10 15:20:49.083499</td>\n",
       "      <td>control</td>\n",
       "      <td>old_page</td>\n",
       "      <td>0</td>\n",
       "    </tr>\n",
       "    <tr>\n",
       "      <th>6</th>\n",
       "      <td>679687</td>\n",
       "      <td>2017-01-19 03:26:46.940749</td>\n",
       "      <td>treatment</td>\n",
       "      <td>new_page</td>\n",
       "      <td>1</td>\n",
       "    </tr>\n",
       "    <tr>\n",
       "      <th>7</th>\n",
       "      <td>719014</td>\n",
       "      <td>2017-01-17 01:48:29.539573</td>\n",
       "      <td>control</td>\n",
       "      <td>old_page</td>\n",
       "      <td>0</td>\n",
       "    </tr>\n",
       "  </tbody>\n",
       "</table>\n",
       "</div>"
      ],
      "text/plain": [
       "   user_id                   timestamp      group landing_page  converted\n",
       "0   851104  2017-01-21 22:11:48.556739    control     old_page          0\n",
       "1   804228  2017-01-12 08:01:45.159739    control     old_page          0\n",
       "2   661590  2017-01-11 16:55:06.154213  treatment     new_page          0\n",
       "3   853541  2017-01-08 18:28:03.143765  treatment     new_page          0\n",
       "4   864975  2017-01-21 01:52:26.210827    control     old_page          1\n",
       "5   936923  2017-01-10 15:20:49.083499    control     old_page          0\n",
       "6   679687  2017-01-19 03:26:46.940749  treatment     new_page          1\n",
       "7   719014  2017-01-17 01:48:29.539573    control     old_page          0"
      ]
     },
     "execution_count": 2,
     "metadata": {},
     "output_type": "execute_result"
    }
   ],
   "source": [
    "df= pd.read_csv(\"ab_data.csv\")\n",
    "df.head(8)"
   ]
  },
  {
   "cell_type": "markdown",
   "metadata": {},
   "source": [
    "b. Use the cell below to find the number of rows in the dataset."
   ]
  },
  {
   "cell_type": "code",
   "execution_count": 3,
   "metadata": {},
   "outputs": [
    {
     "name": "stdout",
     "output_type": "stream",
     "text": [
      "The number of rows in the dataset is: 294478\n"
     ]
    }
   ],
   "source": [
    "no_rows = df.shape[0]\n",
    "print(\"The number of rows in the dataset is:\", no_rows)"
   ]
  },
  {
   "cell_type": "markdown",
   "metadata": {},
   "source": [
    "c. The number of unique users in the dataset."
   ]
  },
  {
   "cell_type": "code",
   "execution_count": 4,
   "metadata": {},
   "outputs": [
    {
     "name": "stdout",
     "output_type": "stream",
     "text": [
      "The number of unique users in the dataset is: 290584\n"
     ]
    }
   ],
   "source": [
    "uni_users = df.user_id.nunique()\n",
    "print(\"The number of unique users in the dataset is:\", uni_users)"
   ]
  },
  {
   "cell_type": "markdown",
   "metadata": {
    "collapsed": true
   },
   "source": [
    "d. The proportion of users converted."
   ]
  },
  {
   "cell_type": "code",
   "execution_count": 5,
   "metadata": {},
   "outputs": [
    {
     "name": "stdout",
     "output_type": "stream",
     "text": [
      "The proportion of users converted is: 11.9659193556\n"
     ]
    }
   ],
   "source": [
    "conv = df.converted.mean()*100\n",
    "print(\"The proportion of users converted is:\", conv)"
   ]
  },
  {
   "cell_type": "markdown",
   "metadata": {
    "collapsed": true
   },
   "source": [
    "e. The number of times the `new_page` and `treatment` don't match."
   ]
  },
  {
   "cell_type": "code",
   "execution_count": 6,
   "metadata": {},
   "outputs": [
    {
     "name": "stdout",
     "output_type": "stream",
     "text": [
      "The number of times the `new_page` and `treatment` don't match is: 3893\n"
     ]
    }
   ],
   "source": [
    "#to calculate this number, this could happen whe combining the number of alignments between new_page and control & old_page and treatment.\n",
    "#the result will be number when new_page and treatment  are not matched\n",
    "dontmatch = df.query('landing_page == \"new_page\" and group == \"control\"').count()[0] + df.query('landing_page == \"old_page\" and group == \"treatment\"').count()[0]\n",
    "print(\"The number of times the `new_page` and `treatment` don't match is:\", dontmatch)"
   ]
  },
  {
   "cell_type": "markdown",
   "metadata": {},
   "source": [
    "f. Do any of the rows have missing values?"
   ]
  },
  {
   "cell_type": "code",
   "execution_count": 7,
   "metadata": {},
   "outputs": [
    {
     "data": {
      "text/plain": [
       "user_id         0\n",
       "timestamp       0\n",
       "group           0\n",
       "landing_page    0\n",
       "converted       0\n",
       "dtype: int64"
      ]
     },
     "execution_count": 7,
     "metadata": {},
     "output_type": "execute_result"
    }
   ],
   "source": [
    "df.isnull().sum()"
   ]
  },
  {
   "cell_type": "markdown",
   "metadata": {},
   "source": [
    "##### There is no any missing values"
   ]
  },
  {
   "cell_type": "markdown",
   "metadata": {},
   "source": [
    "`2.` For the rows where **treatment** does not match with **new_page** or **control** does not match with **old_page**, we cannot be sure if this row truly received the new or old page.  Use **Quiz 2** in the classroom to figure out how we should handle these rows.  \n",
    "\n",
    "a. Now use the answer to the quiz to create a new dataset that meets the specifications from the quiz.  Store your new dataframe in **df2**."
   ]
  },
  {
   "cell_type": "code",
   "execution_count": 8,
   "metadata": {},
   "outputs": [],
   "source": [
    "#Lets begin with making a copy of dataset\n",
    "df2 = df.copy()\n",
    "\n",
    "#Here we need to kick out a two kind of raws from the data set\n",
    "#First, rows when newpage and control are aligned. Second rows where oldpage with treatment\n",
    "df2.drop(df.query('group == \"control\" and landing_page == \"new_page\"').index, inplace =True)\n",
    "df2.drop(df.query('group == \"treatment\" and landing_page == \"old_page\"').index, inplace =True)"
   ]
  },
  {
   "cell_type": "code",
   "execution_count": 9,
   "metadata": {},
   "outputs": [
    {
     "data": {
      "text/plain": [
       "0"
      ]
     },
     "execution_count": 9,
     "metadata": {},
     "output_type": "execute_result"
    }
   ],
   "source": [
    "# Double Check all of the correct rows were removed - this should be 0\n",
    "df2[((df2['group'] == 'treatment') == (df2['landing_page'] == 'new_page')) == False].shape[0]"
   ]
  },
  {
   "cell_type": "markdown",
   "metadata": {},
   "source": [
    "`3.` Use **df2** and the cells below to answer questions for **Quiz3** in the classroom."
   ]
  },
  {
   "cell_type": "markdown",
   "metadata": {},
   "source": [
    "a. How many unique **user_id**s are in **df2**?"
   ]
  },
  {
   "cell_type": "code",
   "execution_count": 10,
   "metadata": {},
   "outputs": [
    {
     "data": {
      "text/plain": [
       "290584"
      ]
     },
     "execution_count": 10,
     "metadata": {},
     "output_type": "execute_result"
    }
   ],
   "source": [
    "df2.user_id.nunique()"
   ]
  },
  {
   "cell_type": "markdown",
   "metadata": {
    "collapsed": true
   },
   "source": [
    "b. There is one **user_id** repeated in **df2**.  What is it?"
   ]
  },
  {
   "cell_type": "code",
   "execution_count": 11,
   "metadata": {},
   "outputs": [
    {
     "data": {
      "text/html": [
       "<div>\n",
       "<style scoped>\n",
       "    .dataframe tbody tr th:only-of-type {\n",
       "        vertical-align: middle;\n",
       "    }\n",
       "\n",
       "    .dataframe tbody tr th {\n",
       "        vertical-align: top;\n",
       "    }\n",
       "\n",
       "    .dataframe thead th {\n",
       "        text-align: right;\n",
       "    }\n",
       "</style>\n",
       "<table border=\"1\" class=\"dataframe\">\n",
       "  <thead>\n",
       "    <tr style=\"text-align: right;\">\n",
       "      <th></th>\n",
       "      <th>user_id</th>\n",
       "      <th>timestamp</th>\n",
       "      <th>group</th>\n",
       "      <th>landing_page</th>\n",
       "      <th>converted</th>\n",
       "    </tr>\n",
       "  </thead>\n",
       "  <tbody>\n",
       "    <tr>\n",
       "      <th>2893</th>\n",
       "      <td>773192</td>\n",
       "      <td>2017-01-14 02:55:59.590927</td>\n",
       "      <td>treatment</td>\n",
       "      <td>new_page</td>\n",
       "      <td>0</td>\n",
       "    </tr>\n",
       "  </tbody>\n",
       "</table>\n",
       "</div>"
      ],
      "text/plain": [
       "      user_id                   timestamp      group landing_page  converted\n",
       "2893   773192  2017-01-14 02:55:59.590927  treatment     new_page          0"
      ]
     },
     "execution_count": 11,
     "metadata": {},
     "output_type": "execute_result"
    }
   ],
   "source": [
    "df2[df2.duplicated(\"user_id\")]"
   ]
  },
  {
   "cell_type": "markdown",
   "metadata": {},
   "source": [
    "c. What is the row information for the repeat **user_id**? "
   ]
  },
  {
   "cell_type": "code",
   "execution_count": 12,
   "metadata": {},
   "outputs": [
    {
     "data": {
      "text/html": [
       "<div>\n",
       "<style scoped>\n",
       "    .dataframe tbody tr th:only-of-type {\n",
       "        vertical-align: middle;\n",
       "    }\n",
       "\n",
       "    .dataframe tbody tr th {\n",
       "        vertical-align: top;\n",
       "    }\n",
       "\n",
       "    .dataframe thead th {\n",
       "        text-align: right;\n",
       "    }\n",
       "</style>\n",
       "<table border=\"1\" class=\"dataframe\">\n",
       "  <thead>\n",
       "    <tr style=\"text-align: right;\">\n",
       "      <th></th>\n",
       "      <th>user_id</th>\n",
       "      <th>timestamp</th>\n",
       "      <th>group</th>\n",
       "      <th>landing_page</th>\n",
       "      <th>converted</th>\n",
       "    </tr>\n",
       "  </thead>\n",
       "  <tbody>\n",
       "    <tr>\n",
       "      <th>1899</th>\n",
       "      <td>773192</td>\n",
       "      <td>2017-01-09 05:37:58.781806</td>\n",
       "      <td>treatment</td>\n",
       "      <td>new_page</td>\n",
       "      <td>0</td>\n",
       "    </tr>\n",
       "    <tr>\n",
       "      <th>2893</th>\n",
       "      <td>773192</td>\n",
       "      <td>2017-01-14 02:55:59.590927</td>\n",
       "      <td>treatment</td>\n",
       "      <td>new_page</td>\n",
       "      <td>0</td>\n",
       "    </tr>\n",
       "  </tbody>\n",
       "</table>\n",
       "</div>"
      ],
      "text/plain": [
       "      user_id                   timestamp      group landing_page  converted\n",
       "1899   773192  2017-01-09 05:37:58.781806  treatment     new_page          0\n",
       "2893   773192  2017-01-14 02:55:59.590927  treatment     new_page          0"
      ]
     },
     "execution_count": 12,
     "metadata": {},
     "output_type": "execute_result"
    }
   ],
   "source": [
    "df2[df2.user_id == 773192]"
   ]
  },
  {
   "cell_type": "markdown",
   "metadata": {},
   "source": [
    "d. Remove **one** of the rows with a duplicate **user_id**, but keep your dataframe as **df2**."
   ]
  },
  {
   "cell_type": "code",
   "execution_count": 13,
   "metadata": {},
   "outputs": [],
   "source": [
    "df2 = df2.drop(index= 1899)"
   ]
  },
  {
   "cell_type": "code",
   "execution_count": 14,
   "metadata": {},
   "outputs": [
    {
     "data": {
      "text/html": [
       "<div>\n",
       "<style scoped>\n",
       "    .dataframe tbody tr th:only-of-type {\n",
       "        vertical-align: middle;\n",
       "    }\n",
       "\n",
       "    .dataframe tbody tr th {\n",
       "        vertical-align: top;\n",
       "    }\n",
       "\n",
       "    .dataframe thead th {\n",
       "        text-align: right;\n",
       "    }\n",
       "</style>\n",
       "<table border=\"1\" class=\"dataframe\">\n",
       "  <thead>\n",
       "    <tr style=\"text-align: right;\">\n",
       "      <th></th>\n",
       "      <th>user_id</th>\n",
       "      <th>timestamp</th>\n",
       "      <th>group</th>\n",
       "      <th>landing_page</th>\n",
       "      <th>converted</th>\n",
       "    </tr>\n",
       "  </thead>\n",
       "  <tbody>\n",
       "    <tr>\n",
       "      <th>2893</th>\n",
       "      <td>773192</td>\n",
       "      <td>2017-01-14 02:55:59.590927</td>\n",
       "      <td>treatment</td>\n",
       "      <td>new_page</td>\n",
       "      <td>0</td>\n",
       "    </tr>\n",
       "  </tbody>\n",
       "</table>\n",
       "</div>"
      ],
      "text/plain": [
       "      user_id                   timestamp      group landing_page  converted\n",
       "2893   773192  2017-01-14 02:55:59.590927  treatment     new_page          0"
      ]
     },
     "execution_count": 14,
     "metadata": {},
     "output_type": "execute_result"
    }
   ],
   "source": [
    "#lets validate whether drop has happened\n",
    "df2[df2.user_id == 773192]"
   ]
  },
  {
   "cell_type": "markdown",
   "metadata": {},
   "source": [
    "`4.` Use **df2** in the cells below to answer the quiz questions related to **Quiz 4** in the classroom.\n",
    "\n",
    "a. What is the probability of an individual converting regardless of the page they receive?"
   ]
  },
  {
   "cell_type": "code",
   "execution_count": 15,
   "metadata": {},
   "outputs": [
    {
     "data": {
      "text/plain": [
       "0.11959708724499628"
      ]
     },
     "execution_count": 15,
     "metadata": {},
     "output_type": "execute_result"
    }
   ],
   "source": [
    "df2.converted.mean()"
   ]
  },
  {
   "cell_type": "markdown",
   "metadata": {},
   "source": [
    "b. Given that an individual was in the `control` group, what is the probability they converted?"
   ]
  },
  {
   "cell_type": "code",
   "execution_count": 16,
   "metadata": {},
   "outputs": [
    {
     "data": {
      "text/plain": [
       "0.1203863045004612"
      ]
     },
     "execution_count": 16,
     "metadata": {},
     "output_type": "execute_result"
    }
   ],
   "source": [
    "df2[df2.group== \"control\"].converted.mean()"
   ]
  },
  {
   "cell_type": "markdown",
   "metadata": {},
   "source": [
    "c. Given that an individual was in the `treatment` group, what is the probability they converted?"
   ]
  },
  {
   "cell_type": "code",
   "execution_count": 17,
   "metadata": {},
   "outputs": [
    {
     "data": {
      "text/plain": [
       "0.11880806551510564"
      ]
     },
     "execution_count": 17,
     "metadata": {},
     "output_type": "execute_result"
    }
   ],
   "source": [
    "df2[df2.group ==\"treatment\"].converted.mean()"
   ]
  },
  {
   "cell_type": "markdown",
   "metadata": {},
   "source": [
    "d. What is the probability that an individual received the new page?"
   ]
  },
  {
   "cell_type": "code",
   "execution_count": 18,
   "metadata": {},
   "outputs": [
    {
     "data": {
      "text/plain": [
       "0.50006194422266881"
      ]
     },
     "execution_count": 18,
     "metadata": {},
     "output_type": "execute_result"
    }
   ],
   "source": [
    "(df2.landing_page ==\"new_page\").mean()"
   ]
  },
  {
   "cell_type": "markdown",
   "metadata": {},
   "source": [
    "e. Consider your results from parts (a) through (d) above, and explain below whether you think there is sufficient evidence to conclude that the new treatment page leads to more conversions."
   ]
  },
  {
   "cell_type": "markdown",
   "metadata": {},
   "source": [
    "### Given the results of the analysis, we find out that control group ,12 %, is higher than treatment group, which is 11.8%. Then, based on this evidence, we can conclude that the new treatment page does not lead to more conversions."
   ]
  },
  {
   "cell_type": "markdown",
   "metadata": {},
   "source": [
    "<a id='ab_test'></a>\n",
    "### Part II - A/B Test\n",
    "\n",
    "Notice that because of the time stamp associated with each event, you could technically run a hypothesis test continuously as each observation was observed.  \n",
    "\n",
    "However, then the hard question is do you stop as soon as one page is considered significantly better than another or does it need to happen consistently for a certain amount of time?  How long do you run to render a decision that neither page is better than another?  \n",
    "\n",
    "These questions are the difficult parts associated with A/B tests in general.  \n",
    "\n",
    "\n",
    "`1.` For now, consider you need to make the decision just based on all the data provided.  If you want to assume that the old page is better unless the new page proves to be definitely better at a Type I error rate of 5%, what should your null and alternative hypotheses be?  You can state your hypothesis in terms of words or in terms of **$p_{old}$** and **$p_{new}$**, which are the converted rates for the old and new pages."
   ]
  },
  {
   "cell_type": "markdown",
   "metadata": {},
   "source": [
    "**Hnull: $p_{new}$ - $p_{old}$ <= 0**\n",
    "\n",
    "**H1: $p_{new}$ - $p_{old}$ > 0**"
   ]
  },
  {
   "cell_type": "markdown",
   "metadata": {},
   "source": [
    "`2.` Assume under the null hypothesis, $p_{new}$ and $p_{old}$ both have \"true\" success rates equal to the **converted** success rate regardless of page - that is $p_{new}$ and $p_{old}$ are equal. Furthermore, assume they are equal to the **converted** rate in **ab_data.csv** regardless of the page. <br><br>\n",
    "\n",
    "Use a sample size for each page equal to the ones in **ab_data.csv**.  <br><br>\n",
    "\n",
    "Perform the sampling distribution for the difference in **converted** between the two pages over 10,000 iterations of calculating an estimate from the null.  <br><br>\n",
    "\n",
    "Use the cells below to provide the necessary parts of this simulation.  If this doesn't make complete sense right now, don't worry - you are going to work through the problems below to complete this problem.  You can use **Quiz 5** in the classroom to make sure you are on the right track.<br><br>"
   ]
  },
  {
   "cell_type": "markdown",
   "metadata": {},
   "source": [
    "a. What is the **conversion rate** for $p_{new}$ under the null? "
   ]
  },
  {
   "cell_type": "code",
   "execution_count": 19,
   "metadata": {},
   "outputs": [
    {
     "data": {
      "text/plain": [
       "0.11959708724499628"
      ]
     },
     "execution_count": 19,
     "metadata": {},
     "output_type": "execute_result"
    }
   ],
   "source": [
    "pnew = df2.converted.mean()\n",
    "pnew"
   ]
  },
  {
   "cell_type": "markdown",
   "metadata": {},
   "source": [
    "b. What is the **conversion rate** for $p_{old}$ under the null? <br><br>"
   ]
  },
  {
   "cell_type": "code",
   "execution_count": 20,
   "metadata": {},
   "outputs": [
    {
     "data": {
      "text/plain": [
       "0.11959708724499628"
      ]
     },
     "execution_count": 20,
     "metadata": {},
     "output_type": "execute_result"
    }
   ],
   "source": [
    "pold = df2.converted.mean()\n",
    "pold    "
   ]
  },
  {
   "cell_type": "markdown",
   "metadata": {},
   "source": [
    "c. What is $n_{new}$, the number of individuals in the treatment group?"
   ]
  },
  {
   "cell_type": "code",
   "execution_count": 21,
   "metadata": {},
   "outputs": [
    {
     "data": {
      "text/plain": [
       "145310"
      ]
     },
     "execution_count": 21,
     "metadata": {},
     "output_type": "execute_result"
    }
   ],
   "source": [
    "nnew= df2.query('group == \"treatment\"').count()[0]\n",
    "nnew"
   ]
  },
  {
   "cell_type": "markdown",
   "metadata": {},
   "source": [
    "d. What is $n_{old}$, the number of individuals in the control group?"
   ]
  },
  {
   "cell_type": "code",
   "execution_count": 22,
   "metadata": {},
   "outputs": [
    {
     "data": {
      "text/plain": [
       "145274"
      ]
     },
     "execution_count": 22,
     "metadata": {},
     "output_type": "execute_result"
    }
   ],
   "source": [
    "nold= df2.query('group == \"control\"').count()[0]\n",
    "nold"
   ]
  },
  {
   "cell_type": "markdown",
   "metadata": {},
   "source": [
    "e. Simulate $n_{new}$ transactions with a conversion rate of $p_{new}$ under the null.  Store these $n_{new}$ 1's and 0's in **new_page_converted**."
   ]
  },
  {
   "cell_type": "code",
   "execution_count": 23,
   "metadata": {},
   "outputs": [],
   "source": [
    "#new_page_converted = np.random.binomial(1, pnew, nnew)\n",
    "new_page_converted = sum((df2.group == 'treatment') & (df2.converted == 1)) / sum(df2.group == 'treatment')"
   ]
  },
  {
   "cell_type": "markdown",
   "metadata": {},
   "source": [
    "f. Simulate $n_{old}$ transactions with a conversion rate of $p_{old}$ under the null.  Store these $n_{old}$ 1's and 0's in **old_page_converted**."
   ]
  },
  {
   "cell_type": "code",
   "execution_count": 24,
   "metadata": {},
   "outputs": [],
   "source": [
    "#old_page_converted = np.random.binomial(1, pold, nold)\n",
    "old_page_converted = sum((df2.group == 'control') & (df2.converted == 1)) / sum(df2.group == 'control')"
   ]
  },
  {
   "cell_type": "markdown",
   "metadata": {},
   "source": [
    "g. Find $p_{new}$ - $p_{old}$ for your simulated values from part (e) and (f)."
   ]
  },
  {
   "cell_type": "code",
   "execution_count": 25,
   "metadata": {},
   "outputs": [
    {
     "data": {
      "text/plain": [
       "-0.0015782389853555567"
      ]
     },
     "execution_count": 25,
     "metadata": {},
     "output_type": "execute_result"
    }
   ],
   "source": [
    "#in this question we want to calculate the difference between the probability mean of every one.\n",
    "obs_diffs = new_page_converted - old_page_converted\n",
    "obs_diffs"
   ]
  },
  {
   "cell_type": "markdown",
   "metadata": {},
   "source": [
    "h. Create 10,000 $p_{new}$ - $p_{old}$ values using the same simulation process you used in parts (a) through (g) above. Store all 10,000 values in a NumPy array called **p_diffs**."
   ]
  },
  {
   "cell_type": "code",
   "execution_count": 26,
   "metadata": {},
   "outputs": [],
   "source": [
    "p_diffs = []\n",
    "for _ in range(10000):\n",
    "    new_page_converted = np.random.binomial(1, pnew, nnew)\n",
    "    old_page_converted = np.random.binomial(1, pold, nold)\n",
    "    xy= new_page_converted.mean() \n",
    "    xz= old_page_converted.mean()\n",
    "    p_diffs.append(xy - xz)"
   ]
  },
  {
   "cell_type": "markdown",
   "metadata": {},
   "source": [
    "i. Plot a histogram of the **p_diffs**.  Does this plot look like what you expected?  Use the matching problem in the classroom to assure you fully understand what was computed here."
   ]
  },
  {
   "cell_type": "code",
   "execution_count": 30,
   "metadata": {},
   "outputs": [
    {
     "data": {
      "image/png": "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\n",
      "text/plain": [
       "<matplotlib.figure.Figure at 0x7f7e02141048>"
      ]
     },
     "metadata": {
      "needs_background": "light"
     },
     "output_type": "display_data"
    }
   ],
   "source": [
    "#the following steps is to plot the histogram of p_diffs\n",
    "plt.hist(p_diffs)\n",
    "plt.xlabel(\"Probability Difference\", fontsize = 10)\n",
    "plt.title(\"Simulation of differences in conversion rates\", fontsize=15)\n",
    "\n",
    "plt.axvline(obs_diffs, color=\"b\");\n",
    "#this strong line represent the actual difference between the probability mean of every scenario."
   ]
  },
  {
   "cell_type": "markdown",
   "metadata": {},
   "source": [
    "j. What proportion of the **p_diffs** are greater than the actual difference observed in **ab_data.csv**?"
   ]
  },
  {
   "cell_type": "code",
   "execution_count": 31,
   "metadata": {},
   "outputs": [],
   "source": [
    "p_diffs = np.array(p_diffs)"
   ]
  },
  {
   "cell_type": "code",
   "execution_count": 40,
   "metadata": {},
   "outputs": [
    {
     "data": {
      "text/plain": [
       "0.90559999999999996"
      ]
     },
     "execution_count": 40,
     "metadata": {},
     "output_type": "execute_result"
    }
   ],
   "source": [
    "(p_diffs >= obs_diffs).mean()"
   ]
  },
  {
   "cell_type": "markdown",
   "metadata": {},
   "source": [
    "k. Please explain using the vocabulary you've learned in this course what you just computed in part **j.**  What is this value called in scientific studies?  What does this value mean in terms of whether or not there is a difference between the new and old pages?"
   ]
  },
  {
   "cell_type": "markdown",
   "metadata": {},
   "source": [
    "**We have calculate the p-values. It is 0.7, which is much higher than 0.05. That means H0 is True. Tge following calculations show the number of conversions of each page. We find out that there is minor differece between two pages. To reject H0, we should have achieved p-value less than 0.05**"
   ]
  },
  {
   "cell_type": "markdown",
   "metadata": {},
   "source": [
    "l. We could also use a built-in to achieve similar results.  Though using the built-in might be easier to code, the above portions are a walkthrough of the ideas that are critical to correctly thinking about statistical significance. Fill in the below to calculate the number of conversions for each page, as well as the number of individuals who received each page. Let `n_old` and `n_new` refer the the number of rows associated with the old page and new pages, respectively."
   ]
  },
  {
   "cell_type": "code",
   "execution_count": 42,
   "metadata": {},
   "outputs": [
    {
     "data": {
      "text/plain": [
       "(17489, 17264, 145274, 145310)"
      ]
     },
     "execution_count": 42,
     "metadata": {},
     "output_type": "execute_result"
    }
   ],
   "source": [
    "import statsmodels.api as sm\n",
    "\n",
    "convert_old = df2.query('group == \"control\" and converted ==1')[\"converted\"].count()\n",
    "convert_new = df2.query('group == \"treatment\" and converted ==1')[\"converted\"].count()\n",
    "convert_old, convert_new, nold, nnew"
   ]
  },
  {
   "cell_type": "markdown",
   "metadata": {},
   "source": [
    "m. Now use `stats.proportions_ztest` to compute your test statistic and p-value.  [Here](https://docs.w3cub.com/statsmodels/generated/statsmodels.stats.proportion.proportions_ztest/) is a helpful link on using the built in."
   ]
  },
  {
   "cell_type": "code",
   "execution_count": 43,
   "metadata": {},
   "outputs": [
    {
     "data": {
      "text/plain": [
       "(-1.3109241984234394, 0.90505831275902449)"
      ]
     },
     "execution_count": 43,
     "metadata": {},
     "output_type": "execute_result"
    }
   ],
   "source": [
    "z_score, p_value = sm.stats.proportions_ztest([convert_new, convert_old], [nnew, nold], alternative = \"larger\")\n",
    "\n",
    "z_score, p_value\n"
   ]
  },
  {
   "cell_type": "markdown",
   "metadata": {},
   "source": [
    "n. What do the z-score and p-value you computed in the previous question mean for the conversion rates of the old and new pages?  Do they agree with the findings in parts **j.** and **k.**?"
   ]
  },
  {
   "cell_type": "markdown",
   "metadata": {},
   "source": [
    "**Calculating the z-score,which is the standard deviation, as well as p-value indicate that H0 is True because the pvalue is higher than 0.05 and std deviation is in negative, so H0 is True.**"
   ]
  },
  {
   "cell_type": "markdown",
   "metadata": {},
   "source": [
    "<a id='regression'></a>\n",
    "\n",
    "### Part III - A regression approach\n",
    "\n",
    "`1.` In this final part, you will see that the result you achieved in the A/B test in Part II above can also be achieved by performing regression.<br><br> \n",
    "\n",
    "a. Since each row is either a conversion or no conversion, what type of regression should you be performing in this case?"
   ]
  },
  {
   "cell_type": "markdown",
   "metadata": {},
   "source": [
    "**we will apply logistic regresssion model because we have here in this case yes or no(binary type)**"
   ]
  },
  {
   "cell_type": "markdown",
   "metadata": {},
   "source": [
    "b. The goal is to use **statsmodels** to fit the regression model you specified in part **a.** to see if there is a significant difference in conversion based on which page a customer receives. However, you first need to create in df2 a column for the intercept, and create a dummy variable column for which page each user received.  Add an **intercept** column, as well as an **ab_page** column, which is 1 when an individual receives the **treatment** and 0 if **control**."
   ]
  },
  {
   "cell_type": "code",
   "execution_count": 44,
   "metadata": {},
   "outputs": [
    {
     "data": {
      "text/html": [
       "<div>\n",
       "<style scoped>\n",
       "    .dataframe tbody tr th:only-of-type {\n",
       "        vertical-align: middle;\n",
       "    }\n",
       "\n",
       "    .dataframe tbody tr th {\n",
       "        vertical-align: top;\n",
       "    }\n",
       "\n",
       "    .dataframe thead th {\n",
       "        text-align: right;\n",
       "    }\n",
       "</style>\n",
       "<table border=\"1\" class=\"dataframe\">\n",
       "  <thead>\n",
       "    <tr style=\"text-align: right;\">\n",
       "      <th></th>\n",
       "      <th>user_id</th>\n",
       "      <th>timestamp</th>\n",
       "      <th>group</th>\n",
       "      <th>landing_page</th>\n",
       "      <th>converted</th>\n",
       "      <th>intercept</th>\n",
       "      <th>ab_page</th>\n",
       "    </tr>\n",
       "  </thead>\n",
       "  <tbody>\n",
       "    <tr>\n",
       "      <th>0</th>\n",
       "      <td>851104</td>\n",
       "      <td>2017-01-21 22:11:48.556739</td>\n",
       "      <td>control</td>\n",
       "      <td>old_page</td>\n",
       "      <td>0</td>\n",
       "      <td>1</td>\n",
       "      <td>0</td>\n",
       "    </tr>\n",
       "    <tr>\n",
       "      <th>1</th>\n",
       "      <td>804228</td>\n",
       "      <td>2017-01-12 08:01:45.159739</td>\n",
       "      <td>control</td>\n",
       "      <td>old_page</td>\n",
       "      <td>0</td>\n",
       "      <td>1</td>\n",
       "      <td>0</td>\n",
       "    </tr>\n",
       "    <tr>\n",
       "      <th>2</th>\n",
       "      <td>661590</td>\n",
       "      <td>2017-01-11 16:55:06.154213</td>\n",
       "      <td>treatment</td>\n",
       "      <td>new_page</td>\n",
       "      <td>0</td>\n",
       "      <td>1</td>\n",
       "      <td>1</td>\n",
       "    </tr>\n",
       "    <tr>\n",
       "      <th>3</th>\n",
       "      <td>853541</td>\n",
       "      <td>2017-01-08 18:28:03.143765</td>\n",
       "      <td>treatment</td>\n",
       "      <td>new_page</td>\n",
       "      <td>0</td>\n",
       "      <td>1</td>\n",
       "      <td>1</td>\n",
       "    </tr>\n",
       "    <tr>\n",
       "      <th>4</th>\n",
       "      <td>864975</td>\n",
       "      <td>2017-01-21 01:52:26.210827</td>\n",
       "      <td>control</td>\n",
       "      <td>old_page</td>\n",
       "      <td>1</td>\n",
       "      <td>1</td>\n",
       "      <td>0</td>\n",
       "    </tr>\n",
       "  </tbody>\n",
       "</table>\n",
       "</div>"
      ],
      "text/plain": [
       "   user_id                   timestamp      group landing_page  converted  \\\n",
       "0   851104  2017-01-21 22:11:48.556739    control     old_page          0   \n",
       "1   804228  2017-01-12 08:01:45.159739    control     old_page          0   \n",
       "2   661590  2017-01-11 16:55:06.154213  treatment     new_page          0   \n",
       "3   853541  2017-01-08 18:28:03.143765  treatment     new_page          0   \n",
       "4   864975  2017-01-21 01:52:26.210827    control     old_page          1   \n",
       "\n",
       "   intercept  ab_page  \n",
       "0          1        0  \n",
       "1          1        0  \n",
       "2          1        1  \n",
       "3          1        1  \n",
       "4          1        0  "
      ]
     },
     "execution_count": 44,
     "metadata": {},
     "output_type": "execute_result"
    }
   ],
   "source": [
    "#we are going to create dummies and intercept column\n",
    "df2[\"intercept\"] = 1\n",
    "\n",
    "ab_page = [\"treatment\", \"control\"]\n",
    "df2['ab_page'] = pd.get_dummies(df2.group)[\"treatment\"]\n",
    "df2.head()"
   ]
  },
  {
   "cell_type": "markdown",
   "metadata": {},
   "source": [
    "c. Use **statsmodels** to instantiate your regression model on the two columns you created in part b., then fit the model using the two columns you created in part **b.** to predict whether or not an individual converts. "
   ]
  },
  {
   "cell_type": "code",
   "execution_count": 45,
   "metadata": {},
   "outputs": [
    {
     "name": "stdout",
     "output_type": "stream",
     "text": [
      "Optimization terminated successfully.\n",
      "         Current function value: 0.366118\n",
      "         Iterations 6\n"
     ]
    }
   ],
   "source": [
    "import statsmodels.api as sm\n",
    "\n",
    "logit = sm.Logit(df2[\"converted\"], df2[[\"intercept\", \"ab_page\"]])\n",
    "results = logit.fit()"
   ]
  },
  {
   "cell_type": "markdown",
   "metadata": {},
   "source": [
    "d. Provide the summary of your model below, and use it as necessary to answer the following questions."
   ]
  },
  {
   "cell_type": "code",
   "execution_count": 46,
   "metadata": {},
   "outputs": [
    {
     "data": {
      "text/html": [
       "<table class=\"simpletable\">\n",
       "<tr>\n",
       "        <td>Model:</td>              <td>Logit</td>       <td>No. Iterations:</td>    <td>6.0000</td>   \n",
       "</tr>\n",
       "<tr>\n",
       "  <td>Dependent Variable:</td>     <td>converted</td>    <td>Pseudo R-squared:</td>    <td>0.000</td>   \n",
       "</tr>\n",
       "<tr>\n",
       "         <td>Date:</td>        <td>2020-11-13 10:53</td>       <td>AIC:</td>        <td>212780.3502</td>\n",
       "</tr>\n",
       "<tr>\n",
       "   <td>No. Observations:</td>       <td>290584</td>            <td>BIC:</td>        <td>212801.5095</td>\n",
       "</tr>\n",
       "<tr>\n",
       "       <td>Df Model:</td>              <td>1</td>         <td>Log-Likelihood:</td>  <td>-1.0639e+05</td>\n",
       "</tr>\n",
       "<tr>\n",
       "     <td>Df Residuals:</td>         <td>290582</td>          <td>LL-Null:</td>      <td>-1.0639e+05</td>\n",
       "</tr>\n",
       "<tr>\n",
       "      <td>Converged:</td>           <td>1.0000</td>           <td>Scale:</td>         <td>1.0000</td>   \n",
       "</tr>\n",
       "</table>\n",
       "<table class=\"simpletable\">\n",
       "<tr>\n",
       "      <td></td>       <th>Coef.</th>  <th>Std.Err.</th>     <th>z</th>      <th>P>|z|</th> <th>[0.025</th>  <th>0.975]</th> \n",
       "</tr>\n",
       "<tr>\n",
       "  <th>intercept</th> <td>-1.9888</td>  <td>0.0081</td>  <td>-246.6690</td> <td>0.0000</td> <td>-2.0046</td> <td>-1.9730</td>\n",
       "</tr>\n",
       "<tr>\n",
       "  <th>ab_page</th>   <td>-0.0150</td>  <td>0.0114</td>   <td>-1.3109</td>  <td>0.1899</td> <td>-0.0374</td> <td>0.0074</td> \n",
       "</tr>\n",
       "</table>"
      ],
      "text/plain": [
       "<class 'statsmodels.iolib.summary2.Summary'>\n",
       "\"\"\"\n",
       "                          Results: Logit\n",
       "==================================================================\n",
       "Model:              Logit            No. Iterations:   6.0000     \n",
       "Dependent Variable: converted        Pseudo R-squared: 0.000      \n",
       "Date:               2020-11-13 10:53 AIC:              212780.3502\n",
       "No. Observations:   290584           BIC:              212801.5095\n",
       "Df Model:           1                Log-Likelihood:   -1.0639e+05\n",
       "Df Residuals:       290582           LL-Null:          -1.0639e+05\n",
       "Converged:          1.0000           Scale:            1.0000     \n",
       "-------------------------------------------------------------------\n",
       "              Coef.   Std.Err.      z      P>|z|    [0.025   0.975]\n",
       "-------------------------------------------------------------------\n",
       "intercept    -1.9888    0.0081  -246.6690  0.0000  -2.0046  -1.9730\n",
       "ab_page      -0.0150    0.0114    -1.3109  0.1899  -0.0374   0.0074\n",
       "==================================================================\n",
       "\n",
       "\"\"\""
      ]
     },
     "execution_count": 46,
     "metadata": {},
     "output_type": "execute_result"
    }
   ],
   "source": [
    "results.summary2()"
   ]
  },
  {
   "cell_type": "markdown",
   "metadata": {},
   "source": [
    "e. What is the p-value associated with **ab_page**? Why does it differ from the value you found in **Part II**?<br><br>  **Hint**: What are the null and alternative hypotheses associated with your regression model, and how do they compare to the null and alternative hypotheses in **Part II**?"
   ]
  },
  {
   "cell_type": "markdown",
   "metadata": {},
   "source": [
    "#### The pvalue is 0.189 and it is different from the previous test because this logit regression model is based on two tailed test (due to the added intercept) and the previous was one tailed test. However, this pvalue is still higher than 0.05 which means H0 is True and we can not reject it. There is a major disadvantage of adding more factors to the model. Because logistic regression requires that each factor be independent of all other factors. If we add too many factors, then the model will tend to overweight the significance of those factors."
   ]
  },
  {
   "cell_type": "markdown",
   "metadata": {},
   "source": [
    "f. Now, you are considering other things that might influence whether or not an individual converts.  Discuss why it is a good idea to consider other factors to add into your regression model.  Are there any disadvantages to adding additional terms into your regression model?"
   ]
  },
  {
   "cell_type": "markdown",
   "metadata": {},
   "source": [
    "**There are other factors that could influence the conversion rate. For example, the timing (timestamp), as it can influence if includeds. Also, some extra features of group users like age, country. If all of these feature 've been integrated, it might significantly impact the conversion rates**"
   ]
  },
  {
   "cell_type": "markdown",
   "metadata": {},
   "source": [
    "g. Now along with testing if the conversion rate changes for different pages, also add an effect based on which country a user lives in. You will need to read in the **countries.csv** dataset and merge together your datasets on the appropriate rows.  [Here](https://pandas.pydata.org/pandas-docs/stable/generated/pandas.DataFrame.join.html) are the docs for joining tables. \n",
    "\n",
    "Does it appear that country had an impact on conversion?  Don't forget to create dummy variables for these country columns - **Hint: You will need two columns for the three dummy variables.** Provide the statistical output as well as a written response to answer this question."
   ]
  },
  {
   "cell_type": "code",
   "execution_count": 47,
   "metadata": {},
   "outputs": [
    {
     "data": {
      "text/html": [
       "<div>\n",
       "<style scoped>\n",
       "    .dataframe tbody tr th:only-of-type {\n",
       "        vertical-align: middle;\n",
       "    }\n",
       "\n",
       "    .dataframe tbody tr th {\n",
       "        vertical-align: top;\n",
       "    }\n",
       "\n",
       "    .dataframe thead th {\n",
       "        text-align: right;\n",
       "    }\n",
       "</style>\n",
       "<table border=\"1\" class=\"dataframe\">\n",
       "  <thead>\n",
       "    <tr style=\"text-align: right;\">\n",
       "      <th></th>\n",
       "      <th>country</th>\n",
       "      <th>timestamp</th>\n",
       "      <th>group</th>\n",
       "      <th>landing_page</th>\n",
       "      <th>converted</th>\n",
       "      <th>intercept</th>\n",
       "      <th>ab_page</th>\n",
       "    </tr>\n",
       "    <tr>\n",
       "      <th>user_id</th>\n",
       "      <th></th>\n",
       "      <th></th>\n",
       "      <th></th>\n",
       "      <th></th>\n",
       "      <th></th>\n",
       "      <th></th>\n",
       "      <th></th>\n",
       "    </tr>\n",
       "  </thead>\n",
       "  <tbody>\n",
       "    <tr>\n",
       "      <th>772657</th>\n",
       "      <td>US</td>\n",
       "      <td>2017-01-08 10:38:19.587158</td>\n",
       "      <td>control</td>\n",
       "      <td>old_page</td>\n",
       "      <td>0</td>\n",
       "      <td>1</td>\n",
       "      <td>0</td>\n",
       "    </tr>\n",
       "    <tr>\n",
       "      <th>633015</th>\n",
       "      <td>US</td>\n",
       "      <td>2017-01-10 19:28:59.450350</td>\n",
       "      <td>control</td>\n",
       "      <td>old_page</td>\n",
       "      <td>0</td>\n",
       "      <td>1</td>\n",
       "      <td>0</td>\n",
       "    </tr>\n",
       "    <tr>\n",
       "      <th>843461</th>\n",
       "      <td>US</td>\n",
       "      <td>2017-01-22 09:07:46.574784</td>\n",
       "      <td>treatment</td>\n",
       "      <td>new_page</td>\n",
       "      <td>0</td>\n",
       "      <td>1</td>\n",
       "      <td>1</td>\n",
       "    </tr>\n",
       "    <tr>\n",
       "      <th>633318</th>\n",
       "      <td>US</td>\n",
       "      <td>2017-01-23 05:35:20.643602</td>\n",
       "      <td>treatment</td>\n",
       "      <td>new_page</td>\n",
       "      <td>0</td>\n",
       "      <td>1</td>\n",
       "      <td>1</td>\n",
       "    </tr>\n",
       "    <tr>\n",
       "      <th>932753</th>\n",
       "      <td>US</td>\n",
       "      <td>2017-01-18 13:00:23.594984</td>\n",
       "      <td>treatment</td>\n",
       "      <td>new_page</td>\n",
       "      <td>0</td>\n",
       "      <td>1</td>\n",
       "      <td>1</td>\n",
       "    </tr>\n",
       "    <tr>\n",
       "      <th>692676</th>\n",
       "      <td>UK</td>\n",
       "      <td>2017-01-17 08:44:15.998043</td>\n",
       "      <td>treatment</td>\n",
       "      <td>new_page</td>\n",
       "      <td>1</td>\n",
       "      <td>1</td>\n",
       "      <td>1</td>\n",
       "    </tr>\n",
       "    <tr>\n",
       "      <th>899877</th>\n",
       "      <td>US</td>\n",
       "      <td>2017-01-21 23:14:37.213798</td>\n",
       "      <td>treatment</td>\n",
       "      <td>new_page</td>\n",
       "      <td>0</td>\n",
       "      <td>1</td>\n",
       "      <td>1</td>\n",
       "    </tr>\n",
       "    <tr>\n",
       "      <th>934900</th>\n",
       "      <td>UK</td>\n",
       "      <td>2017-01-19 22:46:27.232424</td>\n",
       "      <td>control</td>\n",
       "      <td>old_page</td>\n",
       "      <td>0</td>\n",
       "      <td>1</td>\n",
       "      <td>0</td>\n",
       "    </tr>\n",
       "    <tr>\n",
       "      <th>665400</th>\n",
       "      <td>UK</td>\n",
       "      <td>2017-01-16 17:00:22.015596</td>\n",
       "      <td>control</td>\n",
       "      <td>old_page</td>\n",
       "      <td>0</td>\n",
       "      <td>1</td>\n",
       "      <td>0</td>\n",
       "    </tr>\n",
       "    <tr>\n",
       "      <th>880169</th>\n",
       "      <td>UK</td>\n",
       "      <td>2017-01-21 21:07:02.867948</td>\n",
       "      <td>treatment</td>\n",
       "      <td>new_page</td>\n",
       "      <td>0</td>\n",
       "      <td>1</td>\n",
       "      <td>1</td>\n",
       "    </tr>\n",
       "  </tbody>\n",
       "</table>\n",
       "</div>"
      ],
      "text/plain": [
       "        country                   timestamp      group landing_page  \\\n",
       "user_id                                                               \n",
       "772657       US  2017-01-08 10:38:19.587158    control     old_page   \n",
       "633015       US  2017-01-10 19:28:59.450350    control     old_page   \n",
       "843461       US  2017-01-22 09:07:46.574784  treatment     new_page   \n",
       "633318       US  2017-01-23 05:35:20.643602  treatment     new_page   \n",
       "932753       US  2017-01-18 13:00:23.594984  treatment     new_page   \n",
       "692676       UK  2017-01-17 08:44:15.998043  treatment     new_page   \n",
       "899877       US  2017-01-21 23:14:37.213798  treatment     new_page   \n",
       "934900       UK  2017-01-19 22:46:27.232424    control     old_page   \n",
       "665400       UK  2017-01-16 17:00:22.015596    control     old_page   \n",
       "880169       UK  2017-01-21 21:07:02.867948  treatment     new_page   \n",
       "\n",
       "         converted  intercept  ab_page  \n",
       "user_id                                 \n",
       "772657           0          1        0  \n",
       "633015           0          1        0  \n",
       "843461           0          1        1  \n",
       "633318           0          1        1  \n",
       "932753           0          1        1  \n",
       "692676           1          1        1  \n",
       "899877           0          1        1  \n",
       "934900           0          1        0  \n",
       "665400           0          1        0  \n",
       "880169           0          1        1  "
      ]
     },
     "execution_count": 47,
     "metadata": {},
     "output_type": "execute_result"
    }
   ],
   "source": [
    "dfcountries = pd.read_csv(\"./countries.csv\")\n",
    "dfcon_new = dfcountries.set_index(\"user_id\").join(df2.set_index(\"user_id\"), how =\"inner\")\n",
    "dfcon_new.sample(10)"
   ]
  },
  {
   "cell_type": "code",
   "execution_count": 48,
   "metadata": {},
   "outputs": [
    {
     "data": {
      "text/html": [
       "<div>\n",
       "<style scoped>\n",
       "    .dataframe tbody tr th:only-of-type {\n",
       "        vertical-align: middle;\n",
       "    }\n",
       "\n",
       "    .dataframe tbody tr th {\n",
       "        vertical-align: top;\n",
       "    }\n",
       "\n",
       "    .dataframe thead th {\n",
       "        text-align: right;\n",
       "    }\n",
       "</style>\n",
       "<table border=\"1\" class=\"dataframe\">\n",
       "  <thead>\n",
       "    <tr style=\"text-align: right;\">\n",
       "      <th></th>\n",
       "      <th>country</th>\n",
       "      <th>timestamp</th>\n",
       "      <th>group</th>\n",
       "      <th>landing_page</th>\n",
       "      <th>converted</th>\n",
       "      <th>intercept</th>\n",
       "      <th>ab_page</th>\n",
       "      <th>US</th>\n",
       "      <th>CA</th>\n",
       "      <th>UK</th>\n",
       "    </tr>\n",
       "    <tr>\n",
       "      <th>user_id</th>\n",
       "      <th></th>\n",
       "      <th></th>\n",
       "      <th></th>\n",
       "      <th></th>\n",
       "      <th></th>\n",
       "      <th></th>\n",
       "      <th></th>\n",
       "      <th></th>\n",
       "      <th></th>\n",
       "      <th></th>\n",
       "    </tr>\n",
       "  </thead>\n",
       "  <tbody>\n",
       "    <tr>\n",
       "      <th>883806</th>\n",
       "      <td>US</td>\n",
       "      <td>2017-01-12 20:31:11.518771</td>\n",
       "      <td>control</td>\n",
       "      <td>old_page</td>\n",
       "      <td>0</td>\n",
       "      <td>1</td>\n",
       "      <td>0</td>\n",
       "      <td>0</td>\n",
       "      <td>0</td>\n",
       "      <td>1</td>\n",
       "    </tr>\n",
       "    <tr>\n",
       "      <th>793929</th>\n",
       "      <td>US</td>\n",
       "      <td>2017-01-06 12:10:58.962951</td>\n",
       "      <td>control</td>\n",
       "      <td>old_page</td>\n",
       "      <td>0</td>\n",
       "      <td>1</td>\n",
       "      <td>0</td>\n",
       "      <td>0</td>\n",
       "      <td>0</td>\n",
       "      <td>1</td>\n",
       "    </tr>\n",
       "    <tr>\n",
       "      <th>713123</th>\n",
       "      <td>US</td>\n",
       "      <td>2017-01-21 13:58:01.553003</td>\n",
       "      <td>treatment</td>\n",
       "      <td>new_page</td>\n",
       "      <td>0</td>\n",
       "      <td>1</td>\n",
       "      <td>1</td>\n",
       "      <td>0</td>\n",
       "      <td>0</td>\n",
       "      <td>1</td>\n",
       "    </tr>\n",
       "    <tr>\n",
       "      <th>682918</th>\n",
       "      <td>UK</td>\n",
       "      <td>2017-01-15 22:15:46.785465</td>\n",
       "      <td>control</td>\n",
       "      <td>old_page</td>\n",
       "      <td>0</td>\n",
       "      <td>1</td>\n",
       "      <td>0</td>\n",
       "      <td>0</td>\n",
       "      <td>1</td>\n",
       "      <td>0</td>\n",
       "    </tr>\n",
       "    <tr>\n",
       "      <th>925983</th>\n",
       "      <td>US</td>\n",
       "      <td>2017-01-24 06:03:11.934988</td>\n",
       "      <td>treatment</td>\n",
       "      <td>new_page</td>\n",
       "      <td>0</td>\n",
       "      <td>1</td>\n",
       "      <td>1</td>\n",
       "      <td>0</td>\n",
       "      <td>0</td>\n",
       "      <td>1</td>\n",
       "    </tr>\n",
       "    <tr>\n",
       "      <th>897946</th>\n",
       "      <td>US</td>\n",
       "      <td>2017-01-07 14:19:46.773000</td>\n",
       "      <td>treatment</td>\n",
       "      <td>new_page</td>\n",
       "      <td>0</td>\n",
       "      <td>1</td>\n",
       "      <td>1</td>\n",
       "      <td>0</td>\n",
       "      <td>0</td>\n",
       "      <td>1</td>\n",
       "    </tr>\n",
       "    <tr>\n",
       "      <th>759363</th>\n",
       "      <td>US</td>\n",
       "      <td>2017-01-20 02:12:32.431603</td>\n",
       "      <td>control</td>\n",
       "      <td>old_page</td>\n",
       "      <td>0</td>\n",
       "      <td>1</td>\n",
       "      <td>0</td>\n",
       "      <td>0</td>\n",
       "      <td>0</td>\n",
       "      <td>1</td>\n",
       "    </tr>\n",
       "    <tr>\n",
       "      <th>669745</th>\n",
       "      <td>UK</td>\n",
       "      <td>2017-01-20 10:58:55.560597</td>\n",
       "      <td>control</td>\n",
       "      <td>old_page</td>\n",
       "      <td>1</td>\n",
       "      <td>1</td>\n",
       "      <td>0</td>\n",
       "      <td>0</td>\n",
       "      <td>1</td>\n",
       "      <td>0</td>\n",
       "    </tr>\n",
       "    <tr>\n",
       "      <th>879735</th>\n",
       "      <td>US</td>\n",
       "      <td>2017-01-23 08:06:49.795303</td>\n",
       "      <td>control</td>\n",
       "      <td>old_page</td>\n",
       "      <td>0</td>\n",
       "      <td>1</td>\n",
       "      <td>0</td>\n",
       "      <td>0</td>\n",
       "      <td>0</td>\n",
       "      <td>1</td>\n",
       "    </tr>\n",
       "    <tr>\n",
       "      <th>813036</th>\n",
       "      <td>US</td>\n",
       "      <td>2017-01-10 23:23:16.708192</td>\n",
       "      <td>treatment</td>\n",
       "      <td>new_page</td>\n",
       "      <td>0</td>\n",
       "      <td>1</td>\n",
       "      <td>1</td>\n",
       "      <td>0</td>\n",
       "      <td>0</td>\n",
       "      <td>1</td>\n",
       "    </tr>\n",
       "  </tbody>\n",
       "</table>\n",
       "</div>"
      ],
      "text/plain": [
       "        country                   timestamp      group landing_page  \\\n",
       "user_id                                                               \n",
       "883806       US  2017-01-12 20:31:11.518771    control     old_page   \n",
       "793929       US  2017-01-06 12:10:58.962951    control     old_page   \n",
       "713123       US  2017-01-21 13:58:01.553003  treatment     new_page   \n",
       "682918       UK  2017-01-15 22:15:46.785465    control     old_page   \n",
       "925983       US  2017-01-24 06:03:11.934988  treatment     new_page   \n",
       "897946       US  2017-01-07 14:19:46.773000  treatment     new_page   \n",
       "759363       US  2017-01-20 02:12:32.431603    control     old_page   \n",
       "669745       UK  2017-01-20 10:58:55.560597    control     old_page   \n",
       "879735       US  2017-01-23 08:06:49.795303    control     old_page   \n",
       "813036       US  2017-01-10 23:23:16.708192  treatment     new_page   \n",
       "\n",
       "         converted  intercept  ab_page  US  CA  UK  \n",
       "user_id                                             \n",
       "883806           0          1        0   0   0   1  \n",
       "793929           0          1        0   0   0   1  \n",
       "713123           0          1        1   0   0   1  \n",
       "682918           0          1        0   0   1   0  \n",
       "925983           0          1        1   0   0   1  \n",
       "897946           0          1        1   0   0   1  \n",
       "759363           0          1        0   0   0   1  \n",
       "669745           1          1        0   0   1   0  \n",
       "879735           0          1        0   0   0   1  \n",
       "813036           0          1        1   0   0   1  "
      ]
     },
     "execution_count": 48,
     "metadata": {},
     "output_type": "execute_result"
    }
   ],
   "source": [
    "#now we should create the dummies.\n",
    "dfcon_new[[\"US\", \"CA\", \"UK\"]] = pd.get_dummies(dfcon_new[\"country\"])\n",
    "dfcon_new.sample(10)"
   ]
  },
  {
   "cell_type": "code",
   "execution_count": 49,
   "metadata": {},
   "outputs": [
    {
     "name": "stdout",
     "output_type": "stream",
     "text": [
      "Optimization terminated successfully.\n",
      "         Current function value: 0.366113\n",
      "         Iterations 6\n"
     ]
    },
    {
     "data": {
      "text/html": [
       "<table class=\"simpletable\">\n",
       "<tr>\n",
       "        <td>Model:</td>              <td>Logit</td>       <td>No. Iterations:</td>    <td>6.0000</td>   \n",
       "</tr>\n",
       "<tr>\n",
       "  <td>Dependent Variable:</td>     <td>converted</td>    <td>Pseudo R-squared:</td>    <td>0.000</td>   \n",
       "</tr>\n",
       "<tr>\n",
       "         <td>Date:</td>        <td>2020-11-13 10:53</td>       <td>AIC:</td>        <td>212781.1253</td>\n",
       "</tr>\n",
       "<tr>\n",
       "   <td>No. Observations:</td>       <td>290584</td>            <td>BIC:</td>        <td>212823.4439</td>\n",
       "</tr>\n",
       "<tr>\n",
       "       <td>Df Model:</td>              <td>3</td>         <td>Log-Likelihood:</td>  <td>-1.0639e+05</td>\n",
       "</tr>\n",
       "<tr>\n",
       "     <td>Df Residuals:</td>         <td>290580</td>          <td>LL-Null:</td>      <td>-1.0639e+05</td>\n",
       "</tr>\n",
       "<tr>\n",
       "      <td>Converged:</td>           <td>1.0000</td>           <td>Scale:</td>         <td>1.0000</td>   \n",
       "</tr>\n",
       "</table>\n",
       "<table class=\"simpletable\">\n",
       "<tr>\n",
       "      <td></td>       <th>Coef.</th>  <th>Std.Err.</th>     <th>z</th>      <th>P>|z|</th> <th>[0.025</th>  <th>0.975]</th> \n",
       "</tr>\n",
       "<tr>\n",
       "  <th>intercept</th> <td>-1.9794</td>  <td>0.0127</td>  <td>-155.4145</td> <td>0.0000</td> <td>-2.0044</td> <td>-1.9544</td>\n",
       "</tr>\n",
       "<tr>\n",
       "  <th>US</th>        <td>-0.0506</td>  <td>0.0284</td>   <td>-1.7835</td>  <td>0.0745</td> <td>-0.1063</td> <td>0.0050</td> \n",
       "</tr>\n",
       "<tr>\n",
       "  <th>UK</th>        <td>-0.0099</td>  <td>0.0133</td>   <td>-0.7433</td>  <td>0.4573</td> <td>-0.0359</td> <td>0.0162</td> \n",
       "</tr>\n",
       "<tr>\n",
       "  <th>ab_page</th>   <td>-0.0149</td>  <td>0.0114</td>   <td>-1.3069</td>  <td>0.1912</td> <td>-0.0374</td> <td>0.0075</td> \n",
       "</tr>\n",
       "</table>"
      ],
      "text/plain": [
       "<class 'statsmodels.iolib.summary2.Summary'>\n",
       "\"\"\"\n",
       "                          Results: Logit\n",
       "==================================================================\n",
       "Model:              Logit            No. Iterations:   6.0000     \n",
       "Dependent Variable: converted        Pseudo R-squared: 0.000      \n",
       "Date:               2020-11-13 10:53 AIC:              212781.1253\n",
       "No. Observations:   290584           BIC:              212823.4439\n",
       "Df Model:           3                Log-Likelihood:   -1.0639e+05\n",
       "Df Residuals:       290580           LL-Null:          -1.0639e+05\n",
       "Converged:          1.0000           Scale:            1.0000     \n",
       "-------------------------------------------------------------------\n",
       "              Coef.   Std.Err.      z      P>|z|    [0.025   0.975]\n",
       "-------------------------------------------------------------------\n",
       "intercept    -1.9794    0.0127  -155.4145  0.0000  -2.0044  -1.9544\n",
       "US           -0.0506    0.0284    -1.7835  0.0745  -0.1063   0.0050\n",
       "UK           -0.0099    0.0133    -0.7433  0.4573  -0.0359   0.0162\n",
       "ab_page      -0.0149    0.0114    -1.3069  0.1912  -0.0374   0.0075\n",
       "==================================================================\n",
       "\n",
       "\"\"\""
      ]
     },
     "execution_count": 49,
     "metadata": {},
     "output_type": "execute_result"
    }
   ],
   "source": [
    "logit = sm.Logit(dfcon_new[\"converted\"], dfcon_new[[\"intercept\", \"US\", \"UK\", \"ab_page\"]])\n",
    "result = logit.fit()\n",
    "result.summary2()"
   ]
  },
  {
   "cell_type": "markdown",
   "metadata": {},
   "source": [
    "##### As seen from conducte danalysis, the pvalues for the countries are still higher than 0.05, so the H0 is still True. The impact of countries does not significantly influence the conversion rate. "
   ]
  },
  {
   "cell_type": "markdown",
   "metadata": {},
   "source": [
    "h. Though you have now looked at the individual factors of country and page on conversion, we would now like to look at an interaction between page and country to see if there significant effects on conversion.  Create the necessary additional columns, and fit the new model.  \n",
    "\n",
    "Provide the summary results, and your conclusions based on the results."
   ]
  },
  {
   "cell_type": "code",
   "execution_count": 50,
   "metadata": {},
   "outputs": [],
   "source": [
    "dfcon_new[\"ab_UK\"] = dfcon_new[\"ab_page\"] * dfcon_new[\"UK\"]\n",
    "dfcon_new[\"ab_US\"] = dfcon_new[\"ab_page\"] * dfcon_new[\"US\"]"
   ]
  },
  {
   "cell_type": "code",
   "execution_count": 51,
   "metadata": {},
   "outputs": [
    {
     "name": "stdout",
     "output_type": "stream",
     "text": [
      "Optimization terminated successfully.\n",
      "         Current function value: 0.366109\n",
      "         Iterations 6\n"
     ]
    },
    {
     "data": {
      "text/html": [
       "<table class=\"simpletable\">\n",
       "<tr>\n",
       "        <td>Model:</td>              <td>Logit</td>       <td>No. Iterations:</td>    <td>6.0000</td>   \n",
       "</tr>\n",
       "<tr>\n",
       "  <td>Dependent Variable:</td>     <td>converted</td>    <td>Pseudo R-squared:</td>    <td>0.000</td>   \n",
       "</tr>\n",
       "<tr>\n",
       "         <td>Date:</td>        <td>2020-11-13 10:53</td>       <td>AIC:</td>        <td>212782.6602</td>\n",
       "</tr>\n",
       "<tr>\n",
       "   <td>No. Observations:</td>       <td>290584</td>            <td>BIC:</td>        <td>212846.1381</td>\n",
       "</tr>\n",
       "<tr>\n",
       "       <td>Df Model:</td>              <td>5</td>         <td>Log-Likelihood:</td>  <td>-1.0639e+05</td>\n",
       "</tr>\n",
       "<tr>\n",
       "     <td>Df Residuals:</td>         <td>290578</td>          <td>LL-Null:</td>      <td>-1.0639e+05</td>\n",
       "</tr>\n",
       "<tr>\n",
       "      <td>Converged:</td>           <td>1.0000</td>           <td>Scale:</td>         <td>1.0000</td>   \n",
       "</tr>\n",
       "</table>\n",
       "<table class=\"simpletable\">\n",
       "<tr>\n",
       "      <td></td>       <th>Coef.</th>  <th>Std.Err.</th>     <th>z</th>      <th>P>|z|</th> <th>[0.025</th>  <th>0.975]</th> \n",
       "</tr>\n",
       "<tr>\n",
       "  <th>intercept</th> <td>-1.9922</td>  <td>0.0161</td>  <td>-123.4571</td> <td>0.0000</td> <td>-2.0238</td> <td>-1.9606</td>\n",
       "</tr>\n",
       "<tr>\n",
       "  <th>US</th>        <td>-0.0118</td>  <td>0.0398</td>   <td>-0.2957</td>  <td>0.7674</td> <td>-0.0899</td> <td>0.0663</td> \n",
       "</tr>\n",
       "<tr>\n",
       "  <th>UK</th>        <td>0.0057</td>   <td>0.0188</td>   <td>0.3057</td>   <td>0.7598</td> <td>-0.0311</td> <td>0.0426</td> \n",
       "</tr>\n",
       "<tr>\n",
       "  <th>ab_page</th>   <td>0.0108</td>   <td>0.0228</td>   <td>0.4749</td>   <td>0.6349</td> <td>-0.0339</td> <td>0.0555</td> \n",
       "</tr>\n",
       "<tr>\n",
       "  <th>ab_UK</th>     <td>-0.0314</td>  <td>0.0266</td>   <td>-1.1807</td>  <td>0.2377</td> <td>-0.0835</td> <td>0.0207</td> \n",
       "</tr>\n",
       "<tr>\n",
       "  <th>ab_US</th>     <td>-0.0783</td>  <td>0.0568</td>   <td>-1.3783</td>  <td>0.1681</td> <td>-0.1896</td> <td>0.0330</td> \n",
       "</tr>\n",
       "</table>"
      ],
      "text/plain": [
       "<class 'statsmodels.iolib.summary2.Summary'>\n",
       "\"\"\"\n",
       "                          Results: Logit\n",
       "==================================================================\n",
       "Model:              Logit            No. Iterations:   6.0000     \n",
       "Dependent Variable: converted        Pseudo R-squared: 0.000      \n",
       "Date:               2020-11-13 10:53 AIC:              212782.6602\n",
       "No. Observations:   290584           BIC:              212846.1381\n",
       "Df Model:           5                Log-Likelihood:   -1.0639e+05\n",
       "Df Residuals:       290578           LL-Null:          -1.0639e+05\n",
       "Converged:          1.0000           Scale:            1.0000     \n",
       "-------------------------------------------------------------------\n",
       "              Coef.   Std.Err.      z      P>|z|    [0.025   0.975]\n",
       "-------------------------------------------------------------------\n",
       "intercept    -1.9922    0.0161  -123.4571  0.0000  -2.0238  -1.9606\n",
       "US           -0.0118    0.0398    -0.2957  0.7674  -0.0899   0.0663\n",
       "UK            0.0057    0.0188     0.3057  0.7598  -0.0311   0.0426\n",
       "ab_page       0.0108    0.0228     0.4749  0.6349  -0.0339   0.0555\n",
       "ab_UK        -0.0314    0.0266    -1.1807  0.2377  -0.0835   0.0207\n",
       "ab_US        -0.0783    0.0568    -1.3783  0.1681  -0.1896   0.0330\n",
       "==================================================================\n",
       "\n",
       "\"\"\""
      ]
     },
     "execution_count": 51,
     "metadata": {},
     "output_type": "execute_result"
    }
   ],
   "source": [
    "logit = sm.Logit(dfcon_new[\"converted\"], dfcon_new[[\"intercept\", \"US\", \"UK\", \"ab_page\", \"ab_UK\",\"ab_US\"]])\n",
    "result = logit.fit()\n",
    "result.summary2()"
   ]
  },
  {
   "cell_type": "markdown",
   "metadata": {},
   "source": [
    "##### From the analysis, the pvalues from the interaction between page and country have no significant effects on conversion rate. We still are not able to reject H0. "
   ]
  },
  {
   "cell_type": "markdown",
   "metadata": {},
   "source": [
    "<a id='conclusions'></a>\n",
    "## Conclusions\n",
    "\n",
    "#### In this conducted analysis, we wanted to look at a new-webage of an Ecommerce website. We wanted to see whether the treatment new page is significant received by the group users. In this analysis, part II and part III, the pvalues changed.  For both cases, we were not able to reject the H0. There is no  significance conversion for the the new page over old page. Analysis even showed that conversion rate for old page is slightly higher than new one. Comparing the the country and page also indicated no significant effects of conversion rate.\n",
    "\n",
    "##### To sum it up, we could conclude that there is no significant change between conversions between the old and new pages. As a result H0 is True and we could not reject it. Also, we have tried to integrate other features like the country but still failed to reject H0. Indicators showed that old page perform well and we could drop the idea of having new page. \n",
    "\n",
    "Refernces: \n",
    "- https://stackoverflow.com/questions/49814258/statsmodel-attributeerror-module-scipy-stats-has-no-attribute-chisqprob\n",
    "- https://stackoverflow.com/questions/31914831/how-to-set-axvlines-to-use-the-same-colors-from-the-axes-color-cycle-in-matplotl\n",
    "-https://docs.w3cub.com/statsmodels/\n",
    "\n",
    "## Directions to Submit\n",
    "\n",
    "> Before you submit your project, you need to create a .html or .pdf version of this notebook in the workspace here. To do that, run the code cell below. If it worked correctly, you should get a return code of 0, and you should see the generated .html file in the workspace directory (click on the orange Jupyter icon in the upper left).\n",
    "\n",
    "> Alternatively, you can download this report as .html via the **File** > **Download as** submenu, and then manually upload it into the workspace directory by clicking on the orange Jupyter icon in the upper left, then using the Upload button.\n",
    "\n",
    "> Once you've done this, you can submit your project by clicking on the \"Submit Project\" button in the lower right here. This will create and submit a zip file with this .ipynb doc and the .html or .pdf version you created. Congratulations!"
   ]
  },
  {
   "cell_type": "code",
   "execution_count": 52,
   "metadata": {},
   "outputs": [
    {
     "data": {
      "text/plain": [
       "0"
      ]
     },
     "execution_count": 52,
     "metadata": {},
     "output_type": "execute_result"
    }
   ],
   "source": [
    "from subprocess import call\n",
    "call(['python', '-m', 'nbconvert', 'Analyze_ab_test_results_notebook.ipynb'])"
   ]
  }
 ],
 "metadata": {
  "kernelspec": {
   "display_name": "Python 3",
   "language": "python",
   "name": "python3"
  },
  "language_info": {
   "codemirror_mode": {
    "name": "ipython",
    "version": 3
   },
   "file_extension": ".py",
   "mimetype": "text/x-python",
   "name": "python",
   "nbconvert_exporter": "python",
   "pygments_lexer": "ipython3",
   "version": "3.6.3"
  }
 },
 "nbformat": 4,
 "nbformat_minor": 2
}
